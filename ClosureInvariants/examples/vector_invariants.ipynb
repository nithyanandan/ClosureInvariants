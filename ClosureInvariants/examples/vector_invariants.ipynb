{
 "cells": [
  {
   "cell_type": "code",
   "execution_count": 1,
   "metadata": {},
   "outputs": [],
   "source": [
    "import numpy as NP\n",
    "from astroutils import nonmathops as NMO\n",
    "from ClosureInvariants import graphUtils as GU\n",
    "from ClosureInvariants import vectorInvariants as VI"
   ]
  },
  {
   "cell_type": "markdown",
   "metadata": {},
   "source": [
    "## Set up antennas and array info"
   ]
  },
  {
   "cell_type": "code",
   "execution_count": 2,
   "metadata": {},
   "outputs": [
    {
     "name": "stdout",
     "output_type": "stream",
     "text": [
      "[0 1 3 5 7]\n"
     ]
    }
   ],
   "source": [
    "element_ids = ['O', 'A', 'B', 'C', 'D', 'E', 'F', 'G']\n",
    "nelements_total = len(element_ids)\n",
    "elements_subset = ['O', 'A', 'C', 'E', 'G']\n",
    "elements_remove = ['B', 'D', 'F']\n",
    "nelements_subset = len(elements_subset)\n",
    "element_indices_subset = NMO.find_list_in_list(element_ids, elements_subset)\n",
    "print(element_indices_subset)"
   ]
  },
  {
   "cell_type": "markdown",
   "metadata": {},
   "source": [
    "## Determine antenna pairs"
   ]
  },
  {
   "cell_type": "code",
   "execution_count": 3,
   "metadata": {},
   "outputs": [
    {
     "name": "stdout",
     "output_type": "stream",
     "text": [
      "[('O', 'A'), ('O', 'B'), ('O', 'C'), ('O', 'D'), ('O', 'E'), ('O', 'F'), ('O', 'G'), ('A', 'B'), ('A', 'C'), ('A', 'D'), ('A', 'E'), ('A', 'F'), ('A', 'G'), ('B', 'C'), ('B', 'D'), ('B', 'E'), ('B', 'F'), ('B', 'G'), ('C', 'D'), ('C', 'E'), ('C', 'F'), ('C', 'G'), ('D', 'E'), ('D', 'F'), ('D', 'G'), ('E', 'F'), ('E', 'G'), ('F', 'G')]\n",
      "[(0, 1), (0, 2), (0, 3), (0, 4), (0, 5), (0, 6), (0, 7), (1, 2), (1, 3), (1, 4), (1, 5), (1, 6), (1, 7), (2, 3), (2, 4), (2, 5), (2, 6), (2, 7), (3, 4), (3, 5), (3, 6), (3, 7), (4, 5), (4, 6), (4, 7), (5, 6), (5, 7), (6, 7)]\n",
      "[('O', 'A'), ('O', 'C'), ('O', 'E'), ('O', 'G'), ('A', 'C'), ('A', 'E'), ('A', 'G'), ('C', 'E'), ('C', 'G'), ('E', 'G')]\n",
      "[(0, 1), (0, 3), (0, 5), (0, 7), (1, 3), (1, 5), (1, 7), (3, 5), (3, 7), (5, 7)]\n",
      "[0 2 4 6 8 10 12 19 21 26]\n"
     ]
    }
   ],
   "source": [
    "element_pairs = [(element_ids[i], element_ids[j]) for i in range(len(element_ids)) for j in range(i+1,len(element_ids))]\n",
    "npairs = len(element_pairs)\n",
    "element_pairs_subset = [(elements_subset[i], elements_subset[j]) for i in range(len(elements_subset)) for j in range(i+1,len(elements_subset))]\n",
    "npairs_subset = len(element_pairs_subset)\n",
    "element_pairs_indices = [(i,j) for i in range(len(element_ids)) for j in range(i+1,len(element_ids))]\n",
    "element_pairs_subset_indices = [(element_indices_subset[i],element_indices_subset[j]) for i in range(len(elements_subset)) for j in range(i+1,len(elements_subset))]\n",
    "indices_of_subset_pairs = NMO.find_list_in_list(list(map(str,element_pairs)), list(map(str,element_pairs_subset))) # Indices of subset element pairs in all element pairs\n",
    "print(element_pairs)\n",
    "print(element_pairs_indices)\n",
    "print(element_pairs_subset)\n",
    "print(element_pairs_subset_indices)\n",
    "print(indices_of_subset_pairs)"
   ]
  },
  {
   "cell_type": "markdown",
   "metadata": {},
   "source": [
    "## Determine the complete and independent set of triads"
   ]
  },
  {
   "cell_type": "code",
   "execution_count": 4,
   "metadata": {},
   "outputs": [
    {
     "name": "stdout",
     "output_type": "stream",
     "text": [
      "[('O', 'A', 'B'), ('O', 'A', 'C'), ('O', 'A', 'D'), ('O', 'A', 'E'), ('O', 'A', 'F'), ('O', 'A', 'G'), ('O', 'B', 'C'), ('O', 'B', 'D'), ('O', 'B', 'E'), ('O', 'B', 'F'), ('O', 'B', 'G'), ('O', 'C', 'D'), ('O', 'C', 'E'), ('O', 'C', 'F'), ('O', 'C', 'G'), ('O', 'D', 'E'), ('O', 'D', 'F'), ('O', 'D', 'G'), ('O', 'E', 'F'), ('O', 'E', 'G'), ('O', 'F', 'G')]\n",
      "[('O', 'A', 'C'), ('O', 'A', 'E'), ('O', 'A', 'G'), ('O', 'C', 'E'), ('O', 'C', 'G'), ('O', 'E', 'G')]\n",
      "[1 3 5 12 14 19]\n"
     ]
    }
   ],
   "source": [
    "baseid = 'O'\n",
    "base_ind = element_ids.index(baseid)\n",
    "base_ind_subset = elements_subset.index(baseid)\n",
    "triads_indep = GU.generate_triads(element_ids, baseid=baseid)\n",
    "triads_subset_indep = GU.generate_triads(elements_subset, baseid=baseid)\n",
    "indices_subset_triads = NMO.find_list_in_list(list(map(str,triads_indep)), list(map(str,triads_subset_indep))) # Indices of subset triads in all triads\n",
    "print(triads_indep)\n",
    "print(triads_subset_indep)\n",
    "print(indices_subset_triads)"
   ]
  },
  {
   "cell_type": "markdown",
   "metadata": {},
   "source": [
    "## Generate mock cross-correlations"
   ]
  },
  {
   "cell_type": "code",
   "execution_count": 5,
   "metadata": {},
   "outputs": [
    {
     "name": "stdout",
     "output_type": "stream",
     "text": [
      "(16, 12, 10, 28, 2, 2)\n",
      "(16, 12, 10, 10, 2, 2)\n"
     ]
    }
   ],
   "source": [
    "nruns_shape = (16,12,10) # Shape of number of runs (for example, number of random realisations, timestamps, channels)\n",
    "pol_axes = (-2,-1) # Polarisation axes\n",
    "npol = len(pol_axes)\n",
    "bl_axis = -3 # Baseline axis\n",
    "xc_real_std = 1.0\n",
    "xc_imag_std = 1.0\n",
    "randseed = None\n",
    "rng = NP.random.default_rng(randseed)\n",
    "xcorr = rng.normal(loc=0.0, scale=xc_real_std, size=nruns_shape+(npairs,npol,npol)) + 1j * rng.normal(loc=0.0, scale=xc_imag_std, size=nruns_shape+(npairs,npol,npol)) # The last two are polarisation axes\n",
    "xcorr_subset = NP.take(xcorr, indices_of_subset_pairs, axis=bl_axis) # Take a subset of the baseline axes based on the elements subset\n",
    "print(xcorr.shape)\n",
    "print(xcorr_subset.shape)"
   ]
  },
  {
   "cell_type": "markdown",
   "metadata": {},
   "source": [
    "## Set up triangular loop correlations"
   ]
  },
  {
   "cell_type": "code",
   "execution_count": 6,
   "metadata": {},
   "outputs": [
    {
     "name": "stdout",
     "output_type": "stream",
     "text": [
      "21\n",
      "6\n",
      "6\n",
      "0.0\n"
     ]
    }
   ],
   "source": [
    "corrs_lol = VI.corrs_list_on_loops(xcorr, element_pairs, triads_indep, bl_axis=bl_axis, pol_axes=pol_axes)\n",
    "corrs_lol_subset_method1 = VI.corrs_list_on_loops(xcorr, element_pairs, triads_subset_indep, bl_axis=bl_axis, pol_axes=pol_axes) # Method 1 from all correlations\n",
    "corrs_lol_subset_method2 = VI.corrs_list_on_loops(xcorr_subset, element_pairs_subset, triads_subset_indep, bl_axis=bl_axis, pol_axes=pol_axes) # Method 2 from subset correlations\n",
    "print(len(corrs_lol))\n",
    "print(len(corrs_lol_subset_method1))\n",
    "print(len(corrs_lol_subset_method2))\n",
    "print(NP.max(NP.abs(NP.array(corrs_lol_subset_method1)-NP.array(corrs_lol_subset_method2)))) # Verify that both methods of setup produce identical results"
   ]
  },
  {
   "cell_type": "markdown",
   "metadata": {},
   "source": [
    "## Compute advariants"
   ]
  },
  {
   "cell_type": "code",
   "execution_count": 7,
   "metadata": {},
   "outputs": [
    {
     "name": "stdout",
     "output_type": "stream",
     "text": [
      "(16, 12, 10, 21, 2, 2)\n",
      "(16, 12, 10, 6, 2, 2)\n"
     ]
    }
   ],
   "source": [
    "advariants = VI.advariants_multiple_loops(corrs_lol, pol_axes=pol_axes)\n",
    "advariants_subset = VI.advariants_multiple_loops(corrs_lol_subset_method1, pol_axes=pol_axes)\n",
    "print(advariants.shape)\n",
    "print(advariants_subset.shape)"
   ]
  },
  {
   "cell_type": "markdown",
   "metadata": {},
   "source": [
    "## Compute 4-vectors from advariants"
   ]
  },
  {
   "cell_type": "code",
   "execution_count": 8,
   "metadata": {},
   "outputs": [
    {
     "name": "stdout",
     "output_type": "stream",
     "text": [
      "(16, 12, 10, 21, 4)\n",
      "(16, 12, 10, 6, 4)\n"
     ]
    }
   ],
   "source": [
    "z4 = VI.vector_from_advariant(advariants)\n",
    "z4_subset = VI.vector_from_advariant(advariants_subset)\n",
    "print(z4.shape)\n",
    "print(z4_subset.shape)"
   ]
  },
  {
   "cell_type": "markdown",
   "metadata": {},
   "source": [
    "## Compute Minkowski dot products from the complex 4-vectors"
   ]
  },
  {
   "cell_type": "markdown",
   "metadata": {},
   "source": [
    "Number of Minkowski dot products = $4(5)/2 + 4*(2N_\\Delta - 4) = 4N^2 - 12N + 2$, where, $N_\\Delta = \\frac{(N-1)(N-2)}{2}$ and $N$ is the number of elements"
   ]
  },
  {
   "cell_type": "code",
   "execution_count": 9,
   "metadata": {},
   "outputs": [
    {
     "name": "stdout",
     "output_type": "stream",
     "text": [
      "(16, 12, 10, 162)\n",
      "(16, 12, 10, 42)\n"
     ]
    }
   ],
   "source": [
    "mdp = VI.complete_minkowski_dots(z4)\n",
    "mdp_subset = VI.complete_minkowski_dots(z4_subset)\n",
    "print(mdp.shape)\n",
    "print(mdp_subset.shape)"
   ]
  },
  {
   "cell_type": "markdown",
   "metadata": {},
   "source": [
    "## Compute the invariants by removing the unknown common scaling factor"
   ]
  },
  {
   "cell_type": "code",
   "execution_count": 10,
   "metadata": {},
   "outputs": [
    {
     "name": "stdout",
     "output_type": "stream",
     "text": [
      "(16, 12, 10, 162)\n",
      "(16, 12, 10, 42)\n"
     ]
    }
   ],
   "source": [
    "cloinv = VI.remove_scaling_factor_minkoski_dots(mdp, wts=None)\n",
    "cloinv_subset = VI.remove_scaling_factor_minkoski_dots(mdp_subset, wts=None)\n",
    "print(cloinv.shape)\n",
    "print(cloinv_subset.shape)"
   ]
  },
  {
   "cell_type": "markdown",
   "metadata": {},
   "source": [
    "## Test the invariance of the closure invariants obtained by corrupting the correlations using element-based gains"
   ]
  },
  {
   "cell_type": "markdown",
   "metadata": {},
   "source": [
    "## Generate mock polarimetric gains"
   ]
  },
  {
   "cell_type": "code",
   "execution_count": 11,
   "metadata": {},
   "outputs": [
    {
     "name": "stdout",
     "output_type": "stream",
     "text": [
      "(16, 12, 10, 8, 2, 2)\n",
      "(16, 12, 10, 5, 2, 2)\n"
     ]
    }
   ],
   "source": [
    "element_axis = -3 # Antenna axis\n",
    "mean_gain_scale = 3.0 \n",
    "element_gains = rng.normal(loc=1.0, scale=NP.sqrt(0.5)/mean_gain_scale, size=nruns_shape+(nelements_total,npol,npol)).astype(NP.float64) + 1j * rng.normal(loc=1.0, scale=NP.sqrt(0.5)/mean_gain_scale, size=nruns_shape+(nelements_total,npol,npol)).astype(NP.float64) # shape is (...,n_element,2,2)\n",
    "element_gains_subset = NP.take(element_gains, element_indices_subset, axis=element_axis)\n",
    "print(element_gains.shape)\n",
    "print(element_gains_subset.shape)"
   ]
  },
  {
   "cell_type": "markdown",
   "metadata": {},
   "source": [
    "## Corrupt the correlations"
   ]
  },
  {
   "cell_type": "code",
   "execution_count": 12,
   "metadata": {},
   "outputs": [
    {
     "name": "stdout",
     "output_type": "stream",
     "text": [
      "(16, 12, 10, 28, 2, 2)\n",
      "(16, 12, 10, 10, 2, 2)\n"
     ]
    }
   ],
   "source": [
    "prefactor_gains = NP.take(element_gains, NP.array(element_pairs_indices)[:,0], axis=element_axis) # A collection of g_a\n",
    "postfactor_gains = NP.take(element_gains, NP.array(element_pairs_indices)[:,1], axis=element_axis) # A collection of g_b\n",
    "xcorr_mod = VI.corrupt_visibilities(xcorr, prefactor_gains, postfactor_gains, pol_axes=pol_axes)\n",
    "\n",
    "prefactor_gains_subset = NP.take(element_gains, NP.array(element_pairs_subset_indices)[:,0], axis=element_axis) # A collection of g_a\n",
    "postfactor_gains_subset = NP.take(element_gains, NP.array(element_pairs_subset_indices)[:,1], axis=element_axis) # A collection of g_b\n",
    "xcorr_subset_mod = VI.corrupt_visibilities(xcorr_subset, prefactor_gains_subset, postfactor_gains_subset, pol_axes=pol_axes)\n",
    "\n",
    "print(xcorr_mod.shape)\n",
    "print(xcorr_subset_mod.shape)"
   ]
  },
  {
   "cell_type": "markdown",
   "metadata": {},
   "source": [
    "## Compute the closure invariants through advariants, 4-vectors, Minkowski dot products, and scale factor elimination"
   ]
  },
  {
   "cell_type": "code",
   "execution_count": 13,
   "metadata": {},
   "outputs": [
    {
     "name": "stdout",
     "output_type": "stream",
     "text": [
      "21\n",
      "6\n",
      "6\n",
      "0.0\n"
     ]
    }
   ],
   "source": [
    "corrs_mod_lol = VI.corrs_list_on_loops(xcorr_mod, element_pairs, triads_indep, bl_axis=bl_axis, pol_axes=pol_axes)\n",
    "corrs_mod_lol_subset_method1 = VI.corrs_list_on_loops(xcorr_mod, element_pairs, triads_subset_indep, bl_axis=bl_axis, pol_axes=pol_axes) # Method 1 from all correlations\n",
    "corrs_mod_lol_subset_method2 = VI.corrs_list_on_loops(xcorr_subset_mod, element_pairs_subset, triads_subset_indep, bl_axis=bl_axis, pol_axes=pol_axes) # Method 2 from subset correlations\n",
    "print(len(corrs_mod_lol))\n",
    "print(len(corrs_mod_lol_subset_method1))\n",
    "print(len(corrs_mod_lol_subset_method2))\n",
    "print(NP.max(NP.abs(NP.array(corrs_mod_lol_subset_method1)-NP.array(corrs_mod_lol_subset_method2)))) # Verify that both methods of setup produce identical results"
   ]
  },
  {
   "cell_type": "code",
   "execution_count": 14,
   "metadata": {},
   "outputs": [
    {
     "name": "stdout",
     "output_type": "stream",
     "text": [
      "(16, 12, 10, 21, 2, 2)\n",
      "(16, 12, 10, 6, 2, 2)\n"
     ]
    }
   ],
   "source": [
    "advariants_mod = VI.advariants_multiple_loops(corrs_mod_lol, pol_axes=pol_axes)\n",
    "advariants_mod_subset = VI.advariants_multiple_loops(corrs_mod_lol_subset_method1, pol_axes=pol_axes)\n",
    "print(advariants_mod.shape)\n",
    "print(advariants_mod_subset.shape)"
   ]
  },
  {
   "cell_type": "code",
   "execution_count": 15,
   "metadata": {},
   "outputs": [
    {
     "name": "stdout",
     "output_type": "stream",
     "text": [
      "(16, 12, 10, 21, 4)\n",
      "(16, 12, 10, 6, 4)\n"
     ]
    }
   ],
   "source": [
    "z4_mod = VI.vector_from_advariant(advariants_mod)\n",
    "z4_mod_subset = VI.vector_from_advariant(advariants_mod_subset)\n",
    "print(z4_mod.shape)\n",
    "print(z4_mod_subset.shape)"
   ]
  },
  {
   "cell_type": "code",
   "execution_count": 16,
   "metadata": {},
   "outputs": [
    {
     "name": "stdout",
     "output_type": "stream",
     "text": [
      "(16, 12, 10, 162)\n",
      "(16, 12, 10, 42)\n"
     ]
    }
   ],
   "source": [
    "mdp_mod = VI.complete_minkowski_dots(z4_mod)\n",
    "mdp_mod_subset = VI.complete_minkowski_dots(z4_mod_subset)\n",
    "print(mdp_mod.shape)\n",
    "print(mdp_mod_subset.shape)"
   ]
  },
  {
   "cell_type": "code",
   "execution_count": 17,
   "metadata": {},
   "outputs": [
    {
     "name": "stdout",
     "output_type": "stream",
     "text": [
      "(16, 12, 10, 162)\n",
      "(16, 12, 10, 42)\n"
     ]
    }
   ],
   "source": [
    "cloinv_mod = VI.remove_scaling_factor_minkoski_dots(mdp_mod, wts=None)\n",
    "cloinv_mod_subset = VI.remove_scaling_factor_minkoski_dots(mdp_mod_subset, wts=None)\n",
    "print(cloinv_mod.shape)\n",
    "print(cloinv_mod_subset.shape)"
   ]
  },
  {
   "cell_type": "markdown",
   "metadata": {},
   "source": [
    "## Check for invariance between ideal and modified versions"
   ]
  },
  {
   "cell_type": "code",
   "execution_count": 18,
   "metadata": {},
   "outputs": [
    {
     "name": "stdout",
     "output_type": "stream",
     "text": [
      "True\n",
      "True\n"
     ]
    }
   ],
   "source": [
    "print(NP.allclose(cloinv, cloinv_mod))\n",
    "print(NP.allclose(cloinv_subset, cloinv_mod_subset))"
   ]
  },
  {
   "cell_type": "markdown",
   "metadata": {},
   "source": [
    "## Verify scale factors are as expected, namely absolute squared value of the determinant of the polarimetric gain of the base vertex"
   ]
  },
  {
   "cell_type": "code",
   "execution_count": 19,
   "metadata": {},
   "outputs": [],
   "source": [
    "scale_factor = NP.abs(NP.linalg.det(element_gains))**2\n",
    "scale_factor_subset = NP.abs(NP.linalg.det(element_gains_subset))**2"
   ]
  },
  {
   "cell_type": "code",
   "execution_count": 20,
   "metadata": {},
   "outputs": [
    {
     "name": "stdout",
     "output_type": "stream",
     "text": [
      "True\n",
      "True\n"
     ]
    }
   ],
   "source": [
    "print(NP.allclose(scale_factor[...,[base_ind]], mdp_mod / mdp))\n",
    "print(NP.allclose(scale_factor_subset[...,[base_ind_subset]], mdp_mod_subset / mdp_subset))"
   ]
  }
 ],
 "metadata": {
  "kernelspec": {
   "display_name": "CI",
   "language": "python",
   "name": "python3"
  },
  "language_info": {
   "codemirror_mode": {
    "name": "ipython",
    "version": 3
   },
   "file_extension": ".py",
   "mimetype": "text/x-python",
   "name": "python",
   "nbconvert_exporter": "python",
   "pygments_lexer": "ipython3",
   "version": "3.12.2"
  }
 },
 "nbformat": 4,
 "nbformat_minor": 2
}
